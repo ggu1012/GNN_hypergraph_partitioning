{
 "cells": [
  {
   "cell_type": "code",
   "execution_count": 135,
   "metadata": {},
   "outputs": [],
   "source": [
    "import torch\n",
    "import numpy as np\n",
    "import scipy\n",
    "\n",
    "x= [[1,0,0], [1,1,0], [1,0,1], [0,1,1]]\n",
    "p = [[0.8, 0.2], [0.1,0.9], [0.7,0.3], [0.4,0.6]]\n",
    "tensor_x = torch.Tensor(x)\n",
    "tensor_p = torch.Tensor(p)"
   ]
  },
  {
   "cell_type": "code",
   "execution_count": 136,
   "metadata": {},
   "outputs": [],
   "source": [
    "x_coo = tensor_x.to_sparse_coo()"
   ]
  },
  {
   "cell_type": "code",
   "execution_count": 137,
   "metadata": {},
   "outputs": [
    {
     "data": {
      "text/plain": [
       "tensor([[0, 1, 1, 2, 2, 3, 3],\n",
       "        [0, 0, 1, 0, 2, 1, 2]])"
      ]
     },
     "execution_count": 137,
     "metadata": {},
     "output_type": "execute_result"
    }
   ],
   "source": [
    "x_coo.indices()"
   ]
  },
  {
   "cell_type": "code",
   "execution_count": 138,
   "metadata": {},
   "outputs": [
    {
     "name": "stdout",
     "output_type": "stream",
     "text": [
      "tensor([[0, 1, 2, 1, 3, 2, 3],\n",
      "        [0, 0, 0, 1, 1, 2, 2]])\n"
     ]
    }
   ],
   "source": [
    "srt = x_coo.indices()[:,x_coo.indices().sort(1)[1][1]]\n",
    "print(srt)\n",
    "xx = torch.nested.nested_tensor([srt[:,0:3], srt[:,3:5], srt[:,5:6]])"
   ]
  },
  {
   "cell_type": "code",
   "execution_count": 139,
   "metadata": {},
   "outputs": [
    {
     "data": {
      "text/plain": [
       "tensor([0, 1, 3, 2, 5, 4, 6])"
      ]
     },
     "execution_count": 139,
     "metadata": {},
     "output_type": "execute_result"
    }
   ],
   "source": [
    "x_coo.indices().sort(1)[1][1]"
   ]
  },
  {
   "cell_type": "code",
   "execution_count": 140,
   "metadata": {},
   "outputs": [
    {
     "name": "stdout",
     "output_type": "stream",
     "text": [
      "tensor([[[ 0,  1,  2],\n",
      "         [ 0,  0,  0]],\n",
      "\n",
      "        [[ 1,  3, -1],\n",
      "         [ 1,  1, -1]],\n",
      "\n",
      "        [[ 2,  3, -1],\n",
      "         [ 2,  2, -1]]])\n"
     ]
    }
   ],
   "source": [
    "col_change_loc = torch.argwhere(torch.diff(srt[1]))[:,0] + 1\n",
    "_len = srt.shape[1] * torch.ones(1)\n",
    "_zero = torch.zeros(1)\n",
    "_diff_ = torch.cat([_zero, col_change_loc, _len])\n",
    "_split = tuple(torch.diff(_diff_).to(torch.int).tolist())\n",
    "\n",
    "dnd = list(torch.split(srt, _split, dim=1))\n",
    "dfd = torch.nested.nested_tensor(dnd) # 1.13 torch.nested.nested_tensor(...)\n",
    "xfx = dfd.to_padded_tensor(-1)\n",
    "\n",
    "###################################################\n",
    "\n",
    "print(xfx)\n",
    "# extended = torch.cat((tensor_p, torch.zeros((1,2))), 0)\n",
    "# xdx = extended[xfx[:,0,:]]\n",
    "# print(xdx)\n",
    "# 1 - (1 - xdx).prod(1)"
   ]
  },
  {
   "cell_type": "code",
   "execution_count": 141,
   "metadata": {},
   "outputs": [
    {
     "name": "stdout",
     "output_type": "stream",
     "text": [
      "tensor([[0.8000, 0.1000, 0.7000, 0.1000, 0.4000, 0.7000, 0.4000],\n",
      "        [0.2000, 0.9000, 0.3000, 0.9000, 0.6000, 0.3000, 0.6000]])\n"
     ]
    }
   ],
   "source": [
    "ind = x_coo.indices()\n",
    "sp_sorted = tensor_p[ind[0]].T[:,x_coo.indices().sort(1)[1][1]]\n",
    "print(sp_sorted)"
   ]
  },
  {
   "cell_type": "code",
   "execution_count": 142,
   "metadata": {},
   "outputs": [
    {
     "name": "stdout",
     "output_type": "stream",
     "text": [
      "tensor([[0, 1, 2, 1, 3, 2, 3, 0, 2],\n",
      "        [0, 0, 0, 1, 1, 2, 2, 3, 3]])\n",
      "tensor([0, 1, 2, 1, 3, 4, 2, 3, 4, 0, 2, 4])\n",
      "tensor([[[0.8000, 0.2000],\n",
      "         [0.1000, 0.9000],\n",
      "         [0.7000, 0.3000]],\n",
      "\n",
      "        [[0.1000, 0.9000],\n",
      "         [0.4000, 0.6000],\n",
      "         [0.0000, 0.0000]],\n",
      "\n",
      "        [[0.7000, 0.3000],\n",
      "         [0.4000, 0.6000],\n",
      "         [0.0000, 0.0000]],\n",
      "\n",
      "        [[0.8000, 0.2000],\n",
      "         [0.7000, 0.3000],\n",
      "         [0.0000, 0.0000]]])\n",
      "tensor([[0.9460, 0.9440],\n",
      "        [0.4600, 0.9600],\n",
      "        [0.8200, 0.7200],\n",
      "        [0.9400, 0.4400]])\n",
      "tensor([[0.8000, 0.9000],\n",
      "        [0.4000, 0.9000],\n",
      "        [0.7000, 0.6000],\n",
      "        [0.8000, 0.3000]])\n",
      "tensor([[0.4204, 0.4275, 0.3206, 0.1959],\n",
      "        [0.4213, 0.2048, 0.3652, 0.4186]])\n",
      "tensor(2.0829)\n",
      "tensor(2.0829)\n"
     ]
    }
   ],
   "source": [
    "x_coo = torch.tensor([[1,0,0,1], [1,1,0,0], [1,0,1,1], [0,1,1,0]]).to_sparse_coo()\n",
    "srt = x_coo.indices()[:,x_coo.indices().sort(1)[1][1]]\n",
    "\n",
    "e_num = x_coo.shape[1]\n",
    "p_num = 2\n",
    "\n",
    "col_change_loc = torch.argwhere(torch.diff(srt[1]))[:,0] + 1\n",
    "_len = srt.shape[1] * torch.ones(1)\n",
    "_zero = torch.zeros(1)\n",
    "_diff_ = torch.cat([_zero, col_change_loc, _len])\n",
    "_split = torch.diff(_diff_).to(torch.int)\n",
    "\n",
    "print(srt)\n",
    "dnd = torch.split(srt[0], _split.tolist())\n",
    "dfd = torch.nested.nested_tensor(list(dnd))\n",
    "xfx = dfd.to_padded_tensor(x_coo.shape[0])\n",
    "###################################################\n",
    "# extended = torch.cat((tensor_p, torch.zeros((1,2))), 0)\n",
    "extended = torch.nn.functional.pad(tensor_p, (0,0,0,1), 'constant', 0)\n",
    "print(xfx.view(-1))\n",
    "xdx = extended[xfx]\n",
    "xdx = extended.index_select(dim=0, index=xfx.view(-1)).view((e_num, -1 ,p_num))\n",
    "print(xdx)\n",
    "\n",
    "part_prob = 1 -  (1-xdx).prod(1)\n",
    "print(part_prob)\n",
    "\n",
    "max_prob = xdx.max(dim=1)\n",
    "print(max_prob.values)\n",
    "\n",
    "\n",
    "vol_S = xdx.sum(dim=1).sum(dim=0)\n",
    "vol_V = vol_S.sum()\n",
    "vol_Sinv = vol_V - vol_S\n",
    "\n",
    "ww = (vol_V/(vol_S * vol_Sinv)) * (1 - torch.eye(tensor_p.shape[1]))\n",
    "# ww = (1 - torch.eye(tensor_p.shape[1]))\n",
    "cut_S = torch.trace(torch.linalg.multi_dot([part_prob, ww, part_prob.T]))\n",
    "\n",
    "zz = ww @ part_prob.T\n",
    "print(zz)\n",
    "\n",
    "print(part_prob.T.mul(zz).sum())\n",
    "\n",
    "print(cut_S)"
   ]
  },
  {
   "cell_type": "code",
   "execution_count": 143,
   "metadata": {},
   "outputs": [
    {
     "name": "stdout",
     "output_type": "stream",
     "text": [
      "[[0 1 2 0]\n",
      " [1 0 1 1]\n",
      " [2 1 0 1]\n",
      " [0 1 1 0]]\n"
     ]
    }
   ],
   "source": [
    "partition = torch.argmax(tensor_p, dim=1)\n",
    "\n",
    "_idx = x_coo.indices()\n",
    "_val = x_coo.values()\n",
    "\n",
    "x_scipy = scipy.sparse.coo_matrix((_val, _idx), shape=x_coo.shape)\n",
    "deg = np.multiply(x_scipy.sum(1), np.eye(4, dtype=int))\n",
    "print(x_scipy.dot(x_scipy.T).todense() - deg)"
   ]
  },
  {
   "cell_type": "code",
   "execution_count": 144,
   "metadata": {},
   "outputs": [
    {
     "data": {
      "text/plain": [
       "tensor([[0.0000, 1.0000, 0.0000, 0.5000],\n",
       "        [1.0000, 1.0000, 0.0000, 1.0000],\n",
       "        [1.0000, 1.0000, 0.0000, 1.0000]])"
      ]
     },
     "execution_count": 144,
     "metadata": {},
     "output_type": "execute_result"
    }
   ],
   "source": [
    "feats = torch.FloatTensor([[1,1,0,1],[0,1,0,0],[0,0,0,0.5]])\n",
    "_adj = torch.FloatTensor(([0,1,1],[1,0,0],[1,0,0])).to_sparse_coo()\n",
    "_adj.matmul(feats)"
   ]
  },
  {
   "cell_type": "code",
   "execution_count": 145,
   "metadata": {},
   "outputs": [],
   "source": [
    "x_coo = torch.tensor([[1,0,0], [1,1,0], [1,0,1], [0,1,1]]).to_sparse_coo()\n",
    "\n",
    "ind = x_coo.indices()\n",
    "srt = x_coo.indices()[:,x_coo.indices().sort(1)[1][1]]\n",
    "row_change_loc = torch.argwhere(torch.diff(ind[0]))[:,0] + 1\n",
    "col_change_loc = torch.argwhere(torch.diff(srt[1]))[:,0] + 1\n",
    "_len = srt.shape[1] * torch.ones(1, dtype=int)\n",
    "_zero = torch.zeros(1, dtype=int)\n",
    "_diff_r = torch.cat([_zero, row_change_loc, _len])\n",
    "_diff_c = torch.cat([_zero, col_change_loc, _len])\n",
    "_split_r = torch.diff(_diff_r).to(torch.int).tolist()\n",
    "_split_c = torch.diff(_diff_c).to(torch.int).tolist()\n",
    "\n",
    "drd = torch.split(ind[1] ,_split_r)\n",
    "dcd = torch.split(srt[0], _split_c)"
   ]
  },
  {
   "cell_type": "code",
   "execution_count": 146,
   "metadata": {},
   "outputs": [
    {
     "name": "stdout",
     "output_type": "stream",
     "text": [
      "tensor([[1, 0, 0],\n",
      "        [1, 1, 0],\n",
      "        [1, 0, 1],\n",
      "        [0, 1, 1]])\n",
      "tensor([[1, 1, 1, 0],\n",
      "        [1, 2, 1, 1],\n",
      "        [1, 1, 2, 1],\n",
      "        [0, 1, 1, 2]])\n"
     ]
    }
   ],
   "source": [
    "x_coo = torch.tensor([[1,0,0], [1,1,0], [1,0,1], [0,1,1]])\n",
    "print(x_coo.to_dense())\n",
    "print(torch.mm(x_coo, x_coo.T).to_dense())"
   ]
  },
  {
   "cell_type": "code",
   "execution_count": 147,
   "metadata": {},
   "outputs": [
    {
     "name": "stdout",
     "output_type": "stream",
     "text": [
      "tensor([3039, 4480, 3100, 2133])\n",
      "tensor(12752)\n"
     ]
    }
   ],
   "source": [
    "with open('../dataset/hgr_benchmark_set/ISPD98_ibm01.hgr.part.4', 'r') as f:\n",
    "    part = torch.tensor([int(x.strip()) for x in f.readlines()])\n",
    "\n",
    "xx = part.unique(return_counts = True)[1]\n",
    "print(xx)\n",
    "print(xx.sum())"
   ]
  },
  {
   "cell_type": "code",
   "execution_count": 148,
   "metadata": {},
   "outputs": [
    {
     "data": {
      "text/plain": [
       "tensor(1.2751)"
      ]
     },
     "execution_count": 148,
     "metadata": {},
     "output_type": "execute_result"
    }
   ],
   "source": [
    "x = [[9,0.9,0.1],[9,0.9,0.1],[9,0.9,0.1],[2,1,7]]\n",
    "t_x = torch.tensor(x)/10\n",
    "\n",
    "xx = t_x.index_select(dim=0, index=torch.tensor([0,1,2]))\n",
    "(1-(1-xx).prod(0)).sum()"
   ]
  },
  {
   "cell_type": "code",
   "execution_count": 149,
   "metadata": {},
   "outputs": [
    {
     "name": "stdout",
     "output_type": "stream",
     "text": [
      "tensor([[1., 1., 1., 0., 0., 0., 0., 0.],\n",
      "        [1., 2., 1., 1., 0., 0., 0., 0.],\n",
      "        [1., 1., 2., 0., 0., 1., 0., 0.],\n",
      "        [0., 1., 0., 2., 1., 0., 0., 0.],\n",
      "        [0., 0., 0., 1., 1., 0., 0., 0.],\n",
      "        [0., 0., 1., 0., 0., 2., 1., 1.],\n",
      "        [0., 0., 0., 0., 0., 1., 1., 1.],\n",
      "        [0., 0., 0., 0., 0., 1., 1., 1.]], dtype=torch.float64)\n",
      "tensor([[3., 4., 4., 1., 0., 1., 0., 0.],\n",
      "        [4., 7., 5., 4., 1., 1., 0., 0.],\n",
      "        [4., 5., 7., 1., 0., 4., 1., 1.],\n",
      "        [1., 4., 1., 6., 3., 0., 0., 0.],\n",
      "        [0., 1., 0., 3., 2., 0., 0., 0.],\n",
      "        [1., 1., 4., 0., 0., 7., 4., 4.],\n",
      "        [0., 0., 1., 0., 0., 4., 3., 3.],\n",
      "        [0., 0., 1., 0., 0., 4., 3., 3.]], dtype=torch.float64)\n",
      "tensor(indices=tensor([[0, 1, 1, 2, 2, 3, 3, 4, 5],\n",
      "                       [0, 0, 1, 0, 3, 3, 4, 4, 4]]),\n",
      "       values=tensor([1., 1., 1., 1., 1., 1., 1., 1., 1.]),\n",
      "       size=(6, 5), nnz=9, dtype=torch.float64, layout=torch.sparse_coo)\n"
     ]
    }
   ],
   "source": [
    "__inc = torch.tensor([\n",
    "    [1, 0, 0, 0, 0],\n",
    "    [1, 1, 0, 0, 0],\n",
    "    [1, 0, 0, 1, 0],\n",
    "    [0, 1, 1, 0, 0],\n",
    "    [0, 0, 1, 0, 0],\n",
    "    [0, 0, 0, 1, 1],\n",
    "    [0, 0, 0, 0, 1],\n",
    "    [0, 0, 0, 0, 1],\n",
    "], dtype=float).to_sparse_coo()\n",
    "\n",
    "A = __inc.matmul(__inc.T)\n",
    "print(A.to_dense())\n",
    "A2 = A.matmul(A)\n",
    "print(A2.to_dense())\n",
    "\n",
    "neighs = A2.indices()\n",
    "\n",
    "print(__inc.index_select(dim=0, index=neighs[0,torch.argwhere(neighs[1] == 5).flatten()]))"
   ]
  },
  {
   "cell_type": "code",
   "execution_count": 160,
   "metadata": {},
   "outputs": [
    {
     "data": {
      "text/plain": [
       "tensor([7.2868e-44, 1.4980e-42, 1.0000e+00])"
      ]
     },
     "execution_count": 160,
     "metadata": {},
     "output_type": "execute_result"
    }
   ],
   "source": [
    "p = torch.tensor([1, 0.9, 100])\n",
    "torch.nn.functional.gumbel_softmax(p, tau=1, hard=False)"
   ]
  }
 ],
 "metadata": {
  "kernelspec": {
   "display_name": "Python 3.10.6 ('torch_1.13')",
   "language": "python",
   "name": "python3"
  },
  "language_info": {
   "codemirror_mode": {
    "name": "ipython",
    "version": 3
   },
   "file_extension": ".py",
   "mimetype": "text/x-python",
   "name": "python",
   "nbconvert_exporter": "python",
   "pygments_lexer": "ipython3",
   "version": "3.10.6 (main, Oct 24 2022, 16:07:47) [GCC 11.2.0]"
  },
  "orig_nbformat": 4,
  "vscode": {
   "interpreter": {
    "hash": "ad17e7ddd2c9f517952b896465b930498dcbaef5ed6fcdf9693e9d678ff09ccd"
   }
  }
 },
 "nbformat": 4,
 "nbformat_minor": 2
}
