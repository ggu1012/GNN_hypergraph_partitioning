{
 "cells": [
  {
   "cell_type": "code",
   "execution_count": 11,
   "metadata": {},
   "outputs": [],
   "source": [
    "import numpy as np\n",
    "from numpy.linalg import inv"
   ]
  },
  {
   "cell_type": "code",
   "execution_count": 12,
   "metadata": {},
   "outputs": [],
   "source": [
    "H = np.array([[1,0],[1,0],[1,1],[1,1]])\n",
    "\n",
    "Dv = np.eye(H.shape[0]) * H.sum(axis=1)\n",
    "De = np.eye(H.shape[1]) * H.sum(axis=0)"
   ]
  },
  {
   "cell_type": "code",
   "execution_count": 13,
   "metadata": {},
   "outputs": [
    {
     "data": {
      "text/plain": [
       "array([[ 0.75, -0.25, -0.25, -0.25],\n",
       "       [-0.25,  0.75, -0.25, -0.25],\n",
       "       [-0.25, -0.25,  1.25, -0.75],\n",
       "       [-0.25, -0.25, -0.75,  1.25]])"
      ]
     },
     "execution_count": 13,
     "metadata": {},
     "output_type": "execute_result"
    }
   ],
   "source": [
    "# Bolla's laplacian\n",
    "Dv - H @ inv(De) @ H.T"
   ]
  },
  {
   "cell_type": "code",
   "execution_count": 14,
   "metadata": {},
   "outputs": [
    {
     "data": {
      "text/plain": [
       "array([[ 0.75     , -0.25     , -0.1767767, -0.1767767],\n",
       "       [-0.25     ,  0.75     , -0.1767767, -0.1767767],\n",
       "       [-0.1767767, -0.1767767,  0.625    , -0.375    ],\n",
       "       [-0.1767767, -0.1767767, -0.375    ,  0.625    ]])"
      ]
     },
     "execution_count": 14,
     "metadata": {},
     "output_type": "execute_result"
    }
   ],
   "source": [
    "# Zhou's normalized laplacian\n",
    "np.identity(H.shape[0]) - inv(np.sqrt(Dv)) @ H @ inv(De) @ H.T @ inv(np.sqrt(Dv))"
   ]
  }
 ],
 "metadata": {
  "kernelspec": {
   "display_name": "Python 3.10.6 ('torch_1.13')",
   "language": "python",
   "name": "python3"
  },
  "language_info": {
   "codemirror_mode": {
    "name": "ipython",
    "version": 3
   },
   "file_extension": ".py",
   "mimetype": "text/x-python",
   "name": "python",
   "nbconvert_exporter": "python",
   "pygments_lexer": "ipython3",
   "version": "3.10.6"
  },
  "orig_nbformat": 4,
  "vscode": {
   "interpreter": {
    "hash": "ad17e7ddd2c9f517952b896465b930498dcbaef5ed6fcdf9693e9d678ff09ccd"
   }
  }
 },
 "nbformat": 4,
 "nbformat_minor": 2
}
